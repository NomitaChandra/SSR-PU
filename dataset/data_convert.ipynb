{
 "cells": [
  {
   "cell_type": "code",
   "execution_count": 3,
   "metadata": {},
   "outputs": [
    {
     "name": "stdout",
     "output_type": "stream",
     "text": [
      "Data successfully converted and saved to /Users/kavithakamarthy/Downloads/SSR-PU/dataset/CDR_DevelopmentSet.PubTator_converted.json\n"
     ]
    }
   ],
   "source": [
    "import json\n",
    "import re\n",
    "from collections import defaultdict\n",
    "\n",
    "def parse_txt_to_json(file_path):\n",
    "    data = defaultdict(lambda: {\n",
    "        \"title\": \"\",\n",
    "        \"abstract\": \"\",\n",
    "        \"entity\": [],\n",
    "        \"relation\": []\n",
    "    })\n",
    "    \n",
    "    with open(file_path, 'r', encoding='utf-8') as file:\n",
    "        for line in file:\n",
    "            # Identify title and abstract lines\n",
    "            if \"|t|\" in line:\n",
    "                docid, _, title = line.strip().partition(\"|t|\")\n",
    "                data[docid][\"title\"] = title\n",
    "            elif \"|a|\" in line:\n",
    "                docid, _, abstract = line.strip().partition(\"|a|\")\n",
    "                data[docid][\"abstract\"] = abstract\n",
    "            # Parse entity lines\n",
    "            elif len(line.split()) == 6:\n",
    "                docid, start, end, mention, entity_type, entity_id = line.strip().split(\"\\t\")\n",
    "                entity = {\n",
    "                    \"start\": int(start),\n",
    "                    \"end\": int(end),\n",
    "                    \"mention\": mention,\n",
    "                    \"type\": entity_type,\n",
    "                    \"id\": entity_id\n",
    "                }\n",
    "                data[docid][\"entity\"].append(entity)\n",
    "            # Parse relation lines\n",
    "            elif len(line.split()) == 4 and \"CID\" in line:\n",
    "                docid, _, subj_id, obj_id = line.strip().split(\"\\t\")\n",
    "                relation = {\n",
    "                    \"type\": \"chem_disease:related\",\n",
    "                    \"subj\": subj_id,\n",
    "                    \"obj\": obj_id\n",
    "                }\n",
    "                data[docid][\"relation\"].append(relation)\n",
    "\n",
    "    # Convert defaultdict to list of dicts for JSON output\n",
    "    output = [{\"docid\": docid, \"title\": details[\"title\"], \"abstract\": details[\"abstract\"], \n",
    "               \"entity\": details[\"entity\"], \"relation\": details[\"relation\"]} for docid, details in data.items()]\n",
    "\n",
    "    # Save to JSON file\n",
    "    output_path = file_path.replace(\".txt\", \"_converted.json\")\n",
    "    with open(output_path, 'w', encoding='utf-8') as json_file:\n",
    "        json.dump(output, json_file, indent=4)\n",
    "\n",
    "    print(f\"Data successfully converted and saved to {output_path}\")\n",
    "\n",
    "# Specify the path to the input .txt file\n",
    "file_path = '/Users/kavithakamarthy/Downloads/SSR-PU/dataset/CDR_DevelopmentSet.PubTator.txt'\n",
    "parse_txt_to_json(file_path)\n"
   ]
  }
 ],
 "metadata": {
  "kernelspec": {
   "display_name": "Python 3",
   "language": "python",
   "name": "python3"
  },
  "language_info": {
   "codemirror_mode": {
    "name": "ipython",
    "version": 3
   },
   "file_extension": ".py",
   "mimetype": "text/x-python",
   "name": "python",
   "nbconvert_exporter": "python",
   "pygments_lexer": "ipython3",
   "version": "3.11.9"
  }
 },
 "nbformat": 4,
 "nbformat_minor": 2
}
